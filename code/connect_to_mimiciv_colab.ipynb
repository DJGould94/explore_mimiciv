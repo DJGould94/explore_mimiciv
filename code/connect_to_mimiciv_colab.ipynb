{
 "cells": [
  {
   "cell_type": "markdown",
   "metadata": {
    "id": "BzIjYu6QdQAH"
   },
   "source": [
    "\n",
    "\n",
    "# Exploring MIMIC-IV using Colaboratory and BigQuery\n",
    "\n",
    "- BigQuery needs to be enabled in CoLaboratory. I followed the instructions [here](https://tech.aaronteoh.com/bigquery-colaboratory-basics/) after creating a Google Cloud project that I named `mimic4-bq`. You will need to modify the code to use the project ID you created.\n",
    "- It took me a while to get this right and I didn't take good notes, so if anyone else wants to share what they had to do to get BigQuery enabled please share.\n"
   ]
  },
  {
   "cell_type": "markdown",
   "metadata": {
    "id": "4N5rlHA1uMAZ"
   },
   "source": [
    "# Using `ibis` to connect to MIMIC IV on Google BigQuery\n",
    "\n",
    "Environments in Google Colaboratory are not persistent. If we use any software that is not part of teh Google Python Colaboratory environment, we must install it during each session.\n",
    "\n",
    "We are going to be using Ibis, so this must be installed."
   ]
  },
  {
   "cell_type": "code",
   "execution_count": null,
   "metadata": {
    "id": "3MQLJ1CPuMAd"
   },
   "outputs": [],
   "source": [
    "!pip install ibis-framework[bigquery]"
   ]
  },
  {
   "cell_type": "markdown",
   "metadata": {
    "id": "P3YCCYIxd_No"
   },
   "source": [
    "### Google has a really nice Pandas DataFrame display that we will enable."
   ]
  },
  {
   "cell_type": "code",
   "execution_count": null,
   "metadata": {
    "id": "TpWP8r4Fvkl1"
   },
   "outputs": [],
   "source": [
    "%load_ext google.colab.data_table"
   ]
  },
  {
   "cell_type": "code",
   "execution_count": null,
   "metadata": {
    "id": "TUfEg8mWuMAi"
   },
   "outputs": [],
   "source": [
    "import ibis\n",
    "import os"
   ]
  },
  {
   "cell_type": "code",
   "execution_count": null,
   "metadata": {
    "id": "7huHp-rV2HHN"
   },
   "outputs": [],
   "source": [
    "project_id=\"mimic4-bq\"\n",
    "os.environ[\"GOOGLE_CLOUD_PROJECT\"]=project_id\n",
    "import seaborn as sns"
   ]
  },
  {
   "cell_type": "code",
   "execution_count": null,
   "metadata": {
    "id": "7o5Y5B1NTXEJ"
   },
   "outputs": [],
   "source": [
    "import pandas as pd\n",
    "import ipywidgets as ipw\n",
    "from IPython.display import display, HTML, clear_output\n",
    "import matplotlib.pyplot as plt\n",
    "from ipywidgets.widgets.interaction import show_inline_matplotlib_plots\n"
   ]
  },
  {
   "cell_type": "markdown",
   "metadata": {
    "id": "3szvSmTdefJc"
   },
   "source": [
    "The Google display helps with having lots of rows, but not with having lots of columns. This class is a rough attempt to be able to scroll through columns. I've also added on a simple visualization. This needs more work, so be patient with unreadable labels, etc."
   ]
  },
  {
   "cell_type": "code",
   "execution_count": null,
   "metadata": {
    "id": "vOd3VKkLTdJx"
   },
   "outputs": [],
   "source": [
    "class PandasBrowser(ipw.VBox):\n",
    "    def __init__(self, df, fixed=None, *args, **kwargs):\n",
    "        self.df = df\n",
    "        if fixed == None:\n",
    "            self.fixed = [self.df.columns[0]]\n",
    "        else:\n",
    "            self.fixed = fixed[:]\n",
    "        self.cols = [c for c in self.df.columns if c not in self.fixed]\n",
    "        self.ncols = len(self.cols)\n",
    "        self.ndisp = max(12-len(self.fixed), 10)\n",
    "        \n",
    "        if self.ncols < self.ndisp:\n",
    "          col_max = 0\n",
    "        else:\n",
    "          col_max = self.ncols-self.ndisp\n",
    "        self.start_col = ipw.IntSlider(min=0, max=col_max, value=0, description=\"Start col\")\n",
    "    \n",
    "        self.start_col.observe(self.disp_df, \"value\")\n",
    "        self.out = ipw.Output()\n",
    "        children = kwargs.get(\"children\", [])\n",
    "        self.sub = None\n",
    "\n",
    "        self.graph_type = ipw.Dropdown(options=[None, \"describe\", \"categorical\", \"numeric\"], value=None, description=\"Plot Type\")\n",
    "        self.kind = ipw.Dropdown(options=[\"count\", \"swarm\", \"box\", \"boxen\", \"violin\", \"bar\", \"point\"], value=\"count\")\n",
    "        opts = [None]+list(self.df.columns)\n",
    "        self.xsel = ipw.Dropdown(options=opts, value=opts[1], description=\"x\")\n",
    "        self.ysel = ipw.Dropdown(options=opts, value=None, description=\"y\")\n",
    "        self.hsel = ipw.Dropdown(options=opts, value=None, description=\"hue\")\n",
    "        self.rsel = ipw.Dropdown(options=opts, value=None, description=\"row var\")\n",
    "        self.csel = ipw.Dropdown(options=opts, value=None, description=\"col var\")\n",
    "\n",
    "        self.graph_type.observe(self.disp_plot, \"value\")\n",
    "        self.kind.observe(self.disp_plot, \"value\")\n",
    "        self.xsel.observe(self.disp_plot, \"value\")\n",
    "        self.ysel.observe(self.disp_plot, \"value\")\n",
    "        self.hsel.observe(self.disp_plot, \"value\")\n",
    "        self.rsel.observe(self.disp_plot, \"value\")\n",
    "        self.csel.observe(self.disp_plot, \"value\")\n",
    "        \n",
    "\n",
    "        self.plot_out = ipw.Output()\n",
    "        \n",
    "        tmp = ipw.HBox([self.graph_type, self.kind, ipw.VBox([self.xsel, self.ysel]), ipw.VBox([self.hsel, self.rsel, self.csel])])\n",
    "\n",
    "        children= [self.start_col, self.out, tmp, self.plot_out] + children\n",
    "\n",
    "\n",
    "        super(PandasBrowser, self).__init__(children=children)\n",
    "        self.disp_df()\n",
    "        self.disp_plot()\n",
    "\n",
    "\n",
    "    def disp_df(self, *args):\n",
    "        \n",
    "        cols = self.fixed + self.cols[self.start_col.value:self.start_col.value+self.ndisp]\n",
    "        #self.sub = self.df.loc[:, cols]\n",
    "        self.out.clear_output()\n",
    "        with self.out:\n",
    "            display(self.df.loc[:, cols])\n",
    "    def disp_plot(self, *args):\n",
    "        self.plot_out.clear_output()\n",
    "        if self.graph_type.value == None:\n",
    "          return\n",
    "        with self.plot_out:\n",
    "            if self.graph_type.value == \"describe\":\n",
    "              display(self.df.loc[:, cols].describe())\n",
    "            else:\n",
    "              if self.graph_type.value == 'categorical':\n",
    "                g = sns.catplot(data=self.df, kind=self.kind.value, \n",
    "                                x=self.xsel.value)\n",
    "                #y=self.ysel.value, row=self.rsel.value, col=self.csel.value)\n",
    "              else:\n",
    "                g = sns.pairplot(data=self.df, hue=self.hsel.value)\n",
    "              g.set_xticklabels(rotation=45)\n",
    "              show_inline_matplotlib_plots()\n",
    "            \n",
    "    def disp(self, *args):\n",
    "      self.disp_df(args)\n",
    "      self.disp_plot(args)\n"
   ]
  },
  {
   "cell_type": "markdown",
   "metadata": {
    "id": "Qgek1nb-uMAl"
   },
   "source": [
    "### Authenticate using `google.colab`"
   ]
  },
  {
   "cell_type": "code",
   "execution_count": null,
   "metadata": {
    "id": "E2Wuzo6HuMAl"
   },
   "outputs": [],
   "source": [
    "from google.colab import auth\n",
    "auth.authenticate_user()\n",
    "print('Authenticated')"
   ]
  },
  {
   "cell_type": "code",
   "execution_count": null,
   "metadata": {
    "id": "pVZgyV9CuMAs"
   },
   "outputs": [],
   "source": [
    "conn = ibis.bigquery.connect(\n",
    "    project_id=\"mimic4-bq\",\n",
    "    dataset_id='physionet-data.mimic_core')"
   ]
  },
  {
   "cell_type": "markdown",
   "metadata": {
    "id": "2oJfzvyHuMAu"
   },
   "source": [
    "### Once we connect we can list all the databases we have access to"
   ]
  },
  {
   "cell_type": "code",
   "execution_count": null,
   "metadata": {
    "id": "wExL40aQuMAv"
   },
   "outputs": [],
   "source": [
    "dbs = conn.list_databases()\n",
    "print(dbs)"
   ]
  },
  {
   "cell_type": "markdown",
   "metadata": {
    "id": "ezdmGzx-uMAx"
   },
   "source": [
    "### Since I connected to `mimic_core`, I can list the tables in this database"
   ]
  },
  {
   "cell_type": "code",
   "execution_count": null,
   "metadata": {
    "id": "FNE6-hvEuMAx"
   },
   "outputs": [],
   "source": [
    "conn.list_tables()"
   ]
  },
  {
   "cell_type": "markdown",
   "metadata": {
    "id": "tScaggsf3Ucf"
   },
   "source": [
    "https://cloud.google.com/community/tutorials/bigquery-ibis"
   ]
  },
  {
   "cell_type": "code",
   "execution_count": null,
   "metadata": {
    "id": "SzMd1ozauMA0"
   },
   "outputs": [],
   "source": [
    "patients = conn.table(\"patients\")"
   ]
  },
  {
   "cell_type": "markdown",
   "metadata": {
    "id": "cu3zActHUNu9"
   },
   "source": [
    "### The `schema` method will tell you the data types of each column in the table"
   ]
  },
  {
   "cell_type": "code",
   "execution_count": null,
   "metadata": {
    "id": "ZaLNk3NcuMA2"
   },
   "outputs": [],
   "source": [
    "patients.schema()"
   ]
  },
  {
   "cell_type": "markdown",
   "metadata": {
    "id": "XZwV0jwCuMA7"
   },
   "source": [
    "### And do queries"
   ]
  },
  {
   "cell_type": "code",
   "execution_count": null,
   "metadata": {
    "id": "L4EnXMCCuMA7"
   },
   "outputs": [],
   "source": [
    "pts = patients.execute(limit=2000)"
   ]
  },
  {
   "cell_type": "code",
   "execution_count": null,
   "metadata": {
    "id": "sZLwaR1tW_uM"
   },
   "outputs": [],
   "source": [
    "pv = PandasBrowser(pts)\n",
    "pv"
   ]
  },
  {
   "cell_type": "code",
   "execution_count": null,
   "metadata": {
    "id": "2btidXITuMA9"
   },
   "outputs": [],
   "source": [
    "adm = conn.table(\"admissions\").execute(limit=20000)"
   ]
  },
  {
   "cell_type": "code",
   "execution_count": null,
   "metadata": {
    "id": "h81o3TBNh1B7"
   },
   "outputs": [],
   "source": [
    "PandasBrowser(adm)"
   ]
  },
  {
   "cell_type": "code",
   "execution_count": null,
   "metadata": {
    "id": "ba0djGDzuMBH"
   },
   "outputs": [],
   "source": []
  }
 ],
 "metadata": {
  "colab": {
   "collapsed_sections": [],
   "name": "connect_to_mimiciv_colab.ipynb",
   "private_outputs": true,
   "provenance": []
  },
  "kernelspec": {
   "display_name": "Python 3",
   "language": "python",
   "name": "python3"
  },
  "language_info": {
   "codemirror_mode": {
    "name": "ipython",
    "version": 3
   },
   "file_extension": ".py",
   "mimetype": "text/x-python",
   "name": "python",
   "nbconvert_exporter": "python",
   "pygments_lexer": "ipython3",
   "version": "3.7.8"
  }
 },
 "nbformat": 4,
 "nbformat_minor": 1
}
