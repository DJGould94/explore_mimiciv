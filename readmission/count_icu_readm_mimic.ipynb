{
 "cells": [
  {
   "cell_type": "code",
   "execution_count": null,
   "metadata": {},
   "outputs": [],
   "source": [
    "import pandas as pd\n",
    "import numpy as np"
   ]
  },
  {
   "cell_type": "markdown",
   "metadata": {},
   "source": [
    "I definitely recommend people exploring the dataset with BigQuery, esp following the setup described by Brian. It's just my internet connection is not so stable to access google products right now. But the code below can be easily transferred to, say colab, by just changing how you load the tables into pandas."
   ]
  },
  {
   "cell_type": "markdown",
   "metadata": {},
   "source": [
    "# MIMIC-III"
   ]
  },
  {
   "cell_type": "markdown",
   "metadata": {},
   "source": [
    "Here I tried to look at mimic-iii and see if i can reproduce the numbers in the literature, like the `Lin et al, 2019` paper."
   ]
  },
  {
   "cell_type": "code",
   "execution_count": null,
   "metadata": {},
   "outputs": [],
   "source": [
    "stays = pd.read_csv('ICUSTAYS.csv.gz')"
   ]
  },
  {
   "cell_type": "code",
   "execution_count": null,
   "metadata": {},
   "outputs": [],
   "source": [
    "stays.head(2)"
   ]
  },
  {
   "cell_type": "code",
   "execution_count": null,
   "metadata": {},
   "outputs": [],
   "source": [
    "counts = stays.groupby(['HADM_ID']).size().reset_index(name='COUNTS')\n",
    "def merge_stays_counts(table1, table2):\n",
    "    return table1.merge(table2, how='inner', left_on=['HADM_ID'], right_on=['HADM_ID'])\n",
    "stays = merge_stays_counts(stays, counts)"
   ]
  },
  {
   "cell_type": "code",
   "execution_count": null,
   "metadata": {},
   "outputs": [],
   "source": [
    "max_outtime = stays.groupby(['HADM_ID'])['OUTTIME'].transform(max) == stays['OUTTIME']\n",
    "stays['MAX_OUTTIME'] = max_outtime.astype(int)"
   ]
  },
  {
   "cell_type": "code",
   "execution_count": null,
   "metadata": {},
   "outputs": [],
   "source": [
    "transferback = (stays.COUNTS > 1) & (stays.MAX_OUTTIME == 0)\n",
    "stays[transferback]"
   ]
  },
  {
   "cell_type": "markdown",
   "metadata": {},
   "source": [
    "Cool. 3746 seems to be a good number here. MIMIC-III is working alright for us."
   ]
  },
  {
   "cell_type": "code",
   "execution_count": null,
   "metadata": {},
   "outputs": [],
   "source": [
    "stays[stays.HADM_ID == 127889][['HADM_ID', 'ICUSTAY_ID', 'INTIME', 'OUTTIME']]"
   ]
  },
  {
   "cell_type": "markdown",
   "metadata": {},
   "source": [
    "Notice the interval between `OUTTIME` and the subsequent `INTIME`, because they will disappear in MIMIC-IV..."
   ]
  },
  {
   "cell_type": "markdown",
   "metadata": {},
   "source": [
    "# MIMIC-IV"
   ]
  },
  {
   "cell_type": "markdown",
   "metadata": {},
   "source": [
    "Alright, let's look at the equivalent table in mimic-iv, and follow the procedures we took with mimic-iii to get the readmission counts."
   ]
  },
  {
   "cell_type": "code",
   "execution_count": null,
   "metadata": {},
   "outputs": [],
   "source": [
    "icu = pd.read_csv('../MIMIC-IV/icustays.csv.gz')\n",
    "icu.head(2)"
   ]
  },
  {
   "cell_type": "code",
   "execution_count": null,
   "metadata": {},
   "outputs": [],
   "source": [
    "max_out=icu.groupby(['hadm_id'])['outtime'].transform(max) == icu['outtime']\n",
    "icu['MAXOUT'] = max_out.astype(int)"
   ]
  },
  {
   "cell_type": "code",
   "execution_count": null,
   "metadata": {},
   "outputs": [],
   "source": [
    "counts = icu.groupby(['hadm_id']).size().reset_index(name='COUNTS')\n",
    "icu = icu.merge(counts, on=['hadm_id']).sort_values(by=['hadm_id','intime'])"
   ]
  },
  {
   "cell_type": "code",
   "execution_count": null,
   "metadata": {
    "scrolled": true
   },
   "outputs": [],
   "source": [
    "mul = icu[ (icu.COUNTS>1)]\n",
    "mul[ (icu.MAXOUT==0)]"
   ]
  },
  {
   "cell_type": "code",
   "execution_count": null,
   "metadata": {},
   "outputs": [],
   "source": [
    "mul[mul.hadm_id == 22415651]"
   ]
  },
  {
   "cell_type": "markdown",
   "metadata": {},
   "source": [
    "Above is just repeat what we did with mimic-iii. But some weird things happen, that the interval between `outtime` and next `intime` is gone, which raise the question on if the pt was directly transfer from one ICU unit to another. In this case, are they also readmission? So I'm not sure if 4644 is the right number. We need to look at rows in the derived `mul` table we have to see if such is the case: _every pt who visited ICU at least twice is directly transfered from one to the other._"
   ]
  },
  {
   "cell_type": "code",
   "execution_count": null,
   "metadata": {},
   "outputs": [],
   "source": [
    "# here I shift the outtime to compare with subsequent intime\n",
    "shift = mul['outtime'].shift(1)\n",
    "# I create a mask to locate first icu visit\n",
    "shift[mul.MAXOUT==0] = np.NaN\n",
    "mul['shift_outtime']=shift"
   ]
  },
  {
   "cell_type": "code",
   "execution_count": null,
   "metadata": {},
   "outputs": [],
   "source": [
    "# let's see how it goes with the whole table\n",
    "msk = mul['shift_outtime'] != mul['intime']\n",
    "mul[msk & ~mul['shift_outtime'].isna()]"
   ]
  },
  {
   "cell_type": "markdown",
   "metadata": {},
   "source": [
    "Bummer! It looks like those intervals in mimic-iii totally disappeared in the `icustays` table in mimic-iv. Notice that `icustays` itself is a derived table from `transfers`, so there could be some change in how the table is derived between iii and iv. "
   ]
  },
  {
   "cell_type": "code",
   "execution_count": null,
   "metadata": {},
   "outputs": [],
   "source": [
    "mul[mul.hadm_id == 22415651]"
   ]
  },
  {
   "cell_type": "markdown",
   "metadata": {},
   "source": [
    "So let's look at transfers to see if we can ge what we want."
   ]
  },
  {
   "cell_type": "code",
   "execution_count": null,
   "metadata": {
    "scrolled": false
   },
   "outputs": [],
   "source": [
    "tran = pd.read_csv('../MIMIC-IV/transfers.csv.gz')\n",
    "tran[tran.hadm_id == 22415651].sort_values(by=['intime']) # take a look at an example"
   ]
  },
  {
   "cell_type": "code",
   "execution_count": null,
   "metadata": {},
   "outputs": [],
   "source": [
    "# transfers contains a lot of information and is a bit messy, here I just filter it a bit\n",
    "tran = tran[['hadm_id', 'eventtype', 'careunit', 'intime', 'outtime']]\n",
    "tran = tran[(tran['eventtype'] == 'transfer') | (tran['eventtype'] == 'admit')]\n",
    "tran"
   ]
  },
  {
   "cell_type": "code",
   "execution_count": null,
   "metadata": {},
   "outputs": [],
   "source": [
    "# here create a table with only icu transfers\n",
    "icumsk = tran['careunit'].fillna('none').apply(lambda x: 1 if 'ICU' in x else 0) \n",
    "tran_icu = tran[icumsk==1]"
   ]
  },
  {
   "cell_type": "code",
   "execution_count": null,
   "metadata": {},
   "outputs": [],
   "source": [
    "# then identify hadm with multiple icu transfers\n",
    "tran_ct = tran_icu.groupby('hadm_id').size().reset_index(name='COUNTS')\n",
    "tran_mul = tran_icu.merge(tran_ct, on=['hadm_id'])\n",
    "tran_mul = tran_mul[tran_mul.COUNTS > 1].sort_values(by=['hadm_id', 'intime'])"
   ]
  },
  {
   "cell_type": "code",
   "execution_count": null,
   "metadata": {},
   "outputs": [],
   "source": [
    "tran_mul.hadm_id.value_counts(), len(tran_mul)"
   ]
  },
  {
   "cell_type": "code",
   "execution_count": null,
   "metadata": {},
   "outputs": [],
   "source": [
    "# then calculate the time interval bewteen different icu transfers, again using shifted intime and outtime\n",
    "tran_mul.intime = pd.to_datetime(tran_mul.intime)\n",
    "tran_mul.outtime = pd.to_datetime(tran_mul.outtime)\n",
    "\n",
    "tran_mul['diff_hour'] =  (tran_mul.intime.shift(-1) - tran_mul.outtime) / pd.Timedelta('1 hour')\n",
    "tran_mul"
   ]
  },
  {
   "cell_type": "code",
   "execution_count": null,
   "metadata": {
    "scrolled": false
   },
   "outputs": [],
   "source": [
    "# finally, let's filter with 72hr\n",
    "final = tran_mul[(tran_mul.diff_hour < 72) & (tran_mul.diff_hour > 0 )]\n",
    "final['dur_hour'] = (final.outtime - final.intime) / pd.Timedelta('1 hour')\n",
    "final"
   ]
  },
  {
   "cell_type": "code",
   "execution_count": null,
   "metadata": {},
   "outputs": [],
   "source": [
    "final.hadm_id.value_counts()"
   ]
  },
  {
   "cell_type": "markdown",
   "metadata": {},
   "source": [
    "Now I get the numbers in slack: 6586 (total icu readmins, including duplicates with multiple readmin, at most 4 in some cases) and 5910 (count of hospital stays or patients). Changing the minimum `diff_hour` from 0 to 1 is where the final 3946 (hadms) comes from, shown below."
   ]
  },
  {
   "cell_type": "code",
   "execution_count": null,
   "metadata": {},
   "outputs": [],
   "source": [
    "final = tran_mul[(tran_mul.diff_hour < 72) & (tran_mul.diff_hour > 1 )]\n",
    "final"
   ]
  },
  {
   "cell_type": "code",
   "execution_count": null,
   "metadata": {},
   "outputs": [],
   "source": [
    "final.hadm_id.value_counts()"
   ]
  },
  {
   "cell_type": "code",
   "execution_count": null,
   "metadata": {},
   "outputs": [],
   "source": []
  },
  {
   "cell_type": "code",
   "execution_count": null,
   "metadata": {},
   "outputs": [],
   "source": []
  },
  {
   "cell_type": "code",
   "execution_count": null,
   "metadata": {},
   "outputs": [],
   "source": []
  },
  {
   "cell_type": "code",
   "execution_count": null,
   "metadata": {},
   "outputs": [],
   "source": []
  },
  {
   "cell_type": "markdown",
   "metadata": {},
   "source": [
    " without having the patient spending time at other wards. I wonder how those stays are grouped. I found a case (`hadm_id` =22415651) with a pretty lengthy stay (`stay_id`= 35797310), but the `transfer` table seems to show t"
   ]
  },
  {
   "cell_type": "markdown",
   "metadata": {},
   "source": [
    "# eICU"
   ]
  },
  {
   "cell_type": "markdown",
   "metadata": {},
   "source": [
    "Alright, finally, eICU. The structure here is totally different from the previous two mimic datasets. It turns out they have a patient table to record hospital course that is pretty handy for us to work with. Here we go"
   ]
  },
  {
   "cell_type": "code",
   "execution_count": null,
   "metadata": {},
   "outputs": [],
   "source": [
    "pt = pd.read_csv('../patient.csv.gz') # just the eICU table downloaded from physionet\n",
    "pt.head(3)"
   ]
  },
  {
   "cell_type": "code",
   "execution_count": null,
   "metadata": {},
   "outputs": [],
   "source": [
    "# it's a big table, but we only need a handful of columns\n",
    "eicu_cols = ['patientunitstayid', 'patienthealthsystemstayid', 'hospitaladmitoffset','unitdischargeoffset']\n",
    "unit = pt[eicu_cols]\n",
    "unit"
   ]
  },
  {
   "cell_type": "code",
   "execution_count": null,
   "metadata": {},
   "outputs": [],
   "source": [
    "# as before, let's focus on stayid with multiple unitstayid\n",
    "count = unit.groupby('patienthealthsystemstayid').size().reset_index(name='counts')\n",
    "unit = unit.merge(count, how='left')"
   ]
  },
  {
   "cell_type": "code",
   "execution_count": null,
   "metadata": {},
   "outputs": [],
   "source": [
    "mul = unit[unit.counts>1].sort_values(by=['patienthealthsystemstayid', 'hospitaladmitoffset'], ascending=False)\n",
    "mul"
   ]
  },
  {
   "cell_type": "code",
   "execution_count": null,
   "metadata": {},
   "outputs": [],
   "source": [
    "def create_shifted_offset(tmp):\n",
    "    # use shiftid to identify first or pseudo second icu stay\n",
    "    tmp['shiftid'] = tmp.patienthealthsystemstayid.shift(1)\n",
    "    \n",
    "    tmp['firsticu'] = tmp.patienthealthsystemstayid != tmp.shiftid\n",
    "    tmp['firsticu'] = tmp['firsticu'].astype(int)\n",
    "    \n",
    "    # get the discharge time based on illustration in https://eicu-crd.mit.edu/eicutables/patient/\n",
    "    tmp['unitdisch'] = tmp.hospitaladmitoffset - tmp.unitdischargeoffset\n",
    "    tmp['shiftunitdisch'] = tmp['unitdisch'].shift(1) # shift it to examine either the second icu stay is a pseudo one\n",
    "    # by pseudo, i'm referring to those visits with no interval between intime and prev outtime\n",
    "    \n",
    "    msk1 = (tmp.shiftunitdisch != tmp.hospitaladmitoffset )\n",
    "    msk2 = (tmp.firsticu ==0) # true second icu visit\n",
    "    tmp = tmp[msk1 & msk2]\n",
    "    \n",
    "    tmp['diff_time'] = tmp.shiftunitdisch - tmp.hospitaladmitoffset  # get interval between two icu stays\n",
    "    \n",
    "    return tmp"
   ]
  },
  {
   "cell_type": "code",
   "execution_count": null,
   "metadata": {},
   "outputs": [],
   "source": [
    "mul_icus = create_shifted_offset(mul)"
   ]
  },
  {
   "cell_type": "code",
   "execution_count": null,
   "metadata": {},
   "outputs": [],
   "source": [
    "final = mul_icus[(mul_icus.diff_time < 60*72) & (mul_icus.diff_time > 0)]"
   ]
  },
  {
   "cell_type": "code",
   "execution_count": null,
   "metadata": {},
   "outputs": [],
   "source": [
    "final.patienthealthsystemstayid.value_counts()"
   ]
  },
  {
   "cell_type": "code",
   "execution_count": null,
   "metadata": {
    "scrolled": true
   },
   "outputs": [],
   "source": [
    "pt.patienthealthsystemstayid.value_counts()"
   ]
  },
  {
   "cell_type": "code",
   "execution_count": null,
   "metadata": {},
   "outputs": [],
   "source": [
    "num_pt_w_readmin = len(final.patienthealthsystemstayid.unique()) \n",
    "num_total_pt = len(pt.patienthealthsystemstayid.unique())\n",
    "num_pt_w_readmin, num_total_pt, num_pt_w_readmin/num_total_pt"
   ]
  },
  {
   "cell_type": "code",
   "execution_count": null,
   "metadata": {},
   "outputs": [],
   "source": []
  }
 ],
 "metadata": {
  "kernelspec": {
   "display_name": "Python 3",
   "language": "python",
   "name": "python3"
  },
  "language_info": {
   "codemirror_mode": {
    "name": "ipython",
    "version": 3
   },
   "file_extension": ".py",
   "mimetype": "text/x-python",
   "name": "python",
   "nbconvert_exporter": "python",
   "pygments_lexer": "ipython3",
   "version": "3.8.5"
  }
 },
 "nbformat": 4,
 "nbformat_minor": 4
}
